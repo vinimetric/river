{
 "cells": [
  {
   "cell_type": "markdown",
   "metadata": {
    "id": "aVb-aiAk8Xv5"
   },
   "source": [
    "Importar as bibliotecas necessárias"
   ]
  },
  {
   "cell_type": "code",
   "execution_count": 1,
   "metadata": {
    "colab": {
     "base_uri": "https://localhost:8080/"
    },
    "id": "9ZaGpIqPoLU7",
    "outputId": "a9626c0a-ffe8-40db-993f-26d0badd83fa"
   },
   "outputs": [
    {
     "name": "stdout",
     "output_type": "stream",
     "text": [
      "cuda\n"
     ]
    }
   ],
   "source": [
    "import timeit # Para medir o tempo de execução\n",
    "import optuna # Para otimização de hiperparâmetros\n",
    "start_time = timeit.default_timer() # Marcar o início do tempo\n",
    "import torch\n",
    "import torchvision.transforms as transforms\n",
    "import torch.nn as nn\n",
    "import torch.nn.functional as F\n",
    "from torch.utils.data import DataLoader, TensorDataset\n",
    "import torch.optim as optim\n",
    "import numpy as np\n",
    "from torchvision.utils import save_image\n",
    "import matplotlib.pyplot as plt\n",
    "# Definir o dispositivo (cuda se disponível, caso contrário CPU)\n",
    "device = torch.device('cuda' if torch.cuda.is_available() else 'cpu')\n",
    "print(device)\n"
   ]
  },
  {
   "cell_type": "markdown",
   "metadata": {
    "id": "tS2K4R5D9WUb"
   },
   "source": [
    "#### O próximo passo é carregar os dados de entrada. Os dados utilizados são valores de momento transversal dos píons e dos káons, partículas filha do méson D0. Inicialmente, os dados se encontram em um .txt, e devem ser transformados em um tensor no PyTorch. Além disso, os dados são normalizados para aumentar a estabilidade do treino e divididos em set de treino, validação e teste."
   ]
  },
  {
   "cell_type": "code",
   "execution_count": 10,
   "metadata": {
    "id": "8RU0XN7jOY_b"
   },
   "outputs": [],
   "source": [
    "\n",
    "def normalize(data, idx):  ## Por que não utilizar torch.nn.functional.normalize?\n",
    "\n",
    "    data = data[idx]\n",
    "    mean = data.mean(dim=0)\n",
    "    std = data.std(dim=0)\n",
    "\n",
    "    local_holder = {}\n",
    "    local_holder['mean'] = mean\n",
    "    local_holder['std'] = std\n",
    "    norm_holder.append(local_holder)\n",
    "\n",
    "    return ((data - mean)/std)\n",
    "\n",
    "def denormalize(data, idx):\n",
    "    data = data[idx]\n",
    "    mean = norm_holder[idx]['mean']\n",
    "    std = norm_holder[idx]['std']\n",
    "\n",
    "    return (data * std + mean)"
   ]
  },
  {
   "cell_type": "code",
   "execution_count": 11,
   "metadata": {
    "colab": {
     "base_uri": "https://localhost:8080/"
    },
    "id": "52IEajKToW8J",
    "outputId": "2bad90fb-3fcd-4cfa-9159-703d5fe9730b",
    "scrolled": true
   },
   "outputs": [
    {
     "name": "stdout",
     "output_type": "stream",
     "text": [
      "Shape do tensor: torch.Size([92269, 8])\n",
      "Dados do crus: tensor([[-4.9596, -2.1312, -0.1158,  ..., -0.2362,  5.0173,  2.2076],\n",
      "        [-1.7995, -1.5433, -0.9338,  ..., -2.2095,  2.7447,  2.8100],\n",
      "        [-1.5595, -1.6420,  0.8464,  ..., -0.7395,  1.9602,  2.0901],\n",
      "        ...,\n",
      "        [ 0.1853,  0.1886, -1.1690,  ...,  0.2351,  1.7225,  1.2063],\n",
      "        [-0.2826, -0.2887,  1.0728,  ..., -0.1565,  1.3217,  1.1463],\n",
      "        [ 0.1407,  0.1842,  1.6238,  ..., -0.4333,  1.8862,  2.4643]])\n",
      "Número de variáveis de entrada: 8\n",
      "Dados normalizados: tensor([[-1.7112, -0.7436, -0.0542,  ..., -0.0953,  1.7018,  0.7407],\n",
      "        [-0.6685, -0.5428, -0.2437,  ..., -0.8698,  1.5615,  1.5935],\n",
      "        [-1.2872, -1.3431,  0.3436,  ..., -0.7314,  1.0985,  1.1866],\n",
      "        ...,\n",
      "        [ 0.1853,  0.1886, -1.1690,  ...,  0.2351,  1.7225,  1.2063],\n",
      "        [-0.2826, -0.2887,  1.0728,  ..., -0.1565,  1.3217,  1.1463],\n",
      "        [ 0.1407,  0.1842,  1.6238,  ..., -0.4333,  1.8862,  2.4643]])\n",
      "nTrain: 55361, nVal: 18453, nTest: 18455\n",
      "x_train: torch.Size([55361, 8]), x_val: torch.Size([18453, 8]), x_test: torch.Size([18455, 8])\n"
     ]
    }
   ],
   "source": [
    "# Carregar os dados de entrada\n",
    "data = np.loadtxt(\"data_D0_daughtersPx_Py_Pz_E_trk1_trk2.txt\")\n",
    "#data = np.loadtxt(\"../Skims/data_D0_daughtersPx_Py_Pz_E_trk1_trk2.txt\")\n",
    "data = np.transpose(data) # Transposição para obter 1 dim por variável\n",
    "\n",
    "# Converter os dados para um tensor PyTorch\n",
    "tensor_data = torch.tensor(data, dtype=torch.float32)\n",
    "tensor_data = torch.transpose(tensor_data, 0, 1)\n",
    "nVar = tensor_data.shape[1]\n",
    "\n",
    "print(f\"Shape do tensor: {tensor_data.shape}\")\n",
    "print(f\"Dados do crus: {tensor_data}\")\n",
    "print(f\"Número de variáveis de entrada: {nVar}\")\n",
    "\n",
    "# Normalização dos dados\n",
    "norm_holder = []\n",
    "for i in range(nVar):\n",
    "  tensor_data[i] = normalize(tensor_data, i)\n",
    "print(f\"Dados normalizados: {tensor_data}\")\n",
    "\n",
    "# Divisão dos dados em treino, validação e teste\n",
    "nTotal = tensor_data.size(0)\n",
    "nTrain = int(0.6 * nTotal)\n",
    "nVal = int(0.2 * nTotal)\n",
    "nTest = nTotal - nTrain - nVal\n",
    "print(f\"nTrain: {nTrain}, nVal: {nVal}, nTest: {nTest}\")\n",
    "\n",
    "x_train = tensor_data[:nTrain]\n",
    "x_val = tensor_data[nTrain:nTrain + nVal]\n",
    "x_test = tensor_data[nTrain + nVal:]\n",
    "\n",
    "print(f\"x_train: {x_train.size()}, x_val: {x_val.size()}, x_test: {x_test.size()}\")\n",
    "\n",
    "# Configurar DataLoaders para treino, validação e teste\n",
    "batch_size = 32\n",
    "trainloader = DataLoader(TensorDataset(x_train), shuffle=True, batch_size=batch_size)\n",
    "valloader = DataLoader(TensorDataset(x_val), shuffle=False, batch_size=batch_size)\n",
    "testloader = DataLoader(TensorDataset(x_test), shuffle=False, batch_size=batch_size)"
   ]
  },
  {
   "cell_type": "code",
   "execution_count": 12,
   "metadata": {
    "id": "yP4jICo5YWZV"
   },
   "outputs": [],
   "source": [
    "def mass(x):\n",
    "    vec_px = x[0] + x[1]\n",
    "    vec_py = x[2] + x[3]\n",
    "    vec_pz = x[4] + x[5]\n",
    "    E = x[6] + x[7]\n",
    "\n",
    "    norm_pt = torch.sqrt(vec_px**2 + vec_py**2 + vec_pz**2)\n",
    "    m = torch.sqrt(E**2 - norm_pt**2)\n",
    "\n",
    "    return m"
   ]
  },
  {
   "cell_type": "markdown",
   "metadata": {
    "id": "ylIcw5Ux_vIJ"
   },
   "source": [
    "Segue a construção do VAE. Aqui, ele está construído de maneira genérica, sem tamanho das camadas e quantidade de camadas (isso será otimizado posteriormente).\n",
    "\n",
    "Além disso, definimos a loss function como a divergência KL (diferença entre a distribuição aprendida e a normal padrão) somada ao erro de reconstrução (soma dos Mean Squared Error (MSE) de X comparado com a reconstrução de X (X^))"
   ]
  },
  {
   "cell_type": "code",
   "execution_count": 13,
   "metadata": {
    "id": "4Y_tLfhHqXlo"
   },
   "outputs": [],
   "source": [
    "class VAE(nn.Module):\n",
    "    def __init__(self, nVar, h_dims, z_dim, activation, beta):\n",
    "        super(VAE, self).__init__()\n",
    "        self.activation = activation\n",
    "\n",
    "        # Encoder\n",
    "        encoder_layers = []\n",
    "        input_dim = nVar\n",
    "        for h_dim in h_dims:\n",
    "            encoder_layers.append(nn.Linear(input_dim, h_dim))\n",
    "            encoder_layers.append(self.activation)\n",
    "            input_dim = h_dim\n",
    "        self.encoder_layers = nn.Sequential(*encoder_layers)\n",
    "        self.fc21 = nn.Linear(h_dims[-1], z_dim)\n",
    "        self.fc22 = nn.Linear(h_dims[-1], z_dim)\n",
    "\n",
    "        # Decoder\n",
    "        decoder_layers = []\n",
    "        input_dim = z_dim\n",
    "        for h_dim in reversed(h_dims):\n",
    "            decoder_layers.append(nn.Linear(input_dim, h_dim))\n",
    "            decoder_layers.append(self.activation)\n",
    "            input_dim = h_dim\n",
    "        self.decoder_layers = nn.Sequential(*decoder_layers)\n",
    "        self.fc3 = nn.Linear(h_dims[0], nVar)\n",
    "\n",
    "    def encoder(self, x):\n",
    "        h = self.encoder_layers(x)\n",
    "        return self.fc21(h), self.fc22(h)\n",
    "\n",
    "    def sampling(self, mu, log_var):\n",
    "        std = torch.exp(0.5 * log_var)\n",
    "        eps = torch.randn_like(std)\n",
    "        return mu + eps * std\n",
    "\n",
    "    def decoder(self, z):\n",
    "        h = self.decoder_layers(z)\n",
    "        return self.fc3(h)\n",
    "\n",
    "    def forward(self, x):\n",
    "        mu, log_var = self.encoder(x)\n",
    "        z = self.sampling(mu, log_var)\n",
    "        return self.decoder(z), mu, log_var\n",
    "\n",
    "def loss_function(recon_x, x, mu, log_var, beta):\n",
    "    BCE = nn.MSELoss(reduction='sum')(recon_x, x) + nn.MSELoss(reduction='sum')(mass(recon_x), mass(x))\n",
    "    KLD = -0.5 * torch.sum(1 + log_var - mu.pow(2) - log_var.exp())\n",
    "    return beta * BCE + (1 - beta) * KLD"
   ]
  },
  {
   "cell_type": "markdown",
   "metadata": {
    "id": "e4ocMH6tDUu7"
   },
   "source": [
    "Declaração do treinamento do modelo. Ele é feito em epochs, sendo que cada epoch calcula a perda, realiza retropropagação e atualiza os parâmetros do modelo. A perda média de treinamento para a época é então retornada.\n",
    "\n",
    "Durante o treinamento, a validação é realizada a cada época, e a técnica de early stopping é usada para interromper o treinamento se a perda de validação não melhorar após um número determinado de épocas."
   ]
  },
  {
   "cell_type": "code",
   "execution_count": 14,
   "metadata": {},
   "outputs": [],
   "source": [
    "def mass_verifier(data, recon):\n",
    "    vec_px = recon[0] + recon[1]\n",
    "    vec_py = recon[2] + recon[3]\n",
    "    vec_pz = recon[4] + recon[5]\n",
    "    E = recon[6] + recon[7]\n",
    "\n",
    "    term = E**2 - vec_px**2 - vec_py**2 - vec_pz**2\n",
    "    verif = (term > 0)\n",
    "    return data[:,verif], recon[:,verif]"
   ]
  },
  {
   "cell_type": "code",
   "execution_count": 15,
   "metadata": {
    "id": "gQTe4Aubq1LB"
   },
   "outputs": [],
   "source": [
    "def train(model, trainloader, optimizer, beta):\n",
    "    model.train()\n",
    "    train_loss = 0\n",
    "    len_verif = 0\n",
    "    for data in trainloader:\n",
    "        data = data[0].to(device)\n",
    "        optimizer.zero_grad()\n",
    "        recon_batch, mu, log_var = model(data)\n",
    "        denorm_data, denorm_recon_batch = torch.transpose(data, 1, 0), torch.transpose(recon_batch, 1, 0)\n",
    "        for i in range(nVar):\n",
    "            denorm_data[i] = denormalize(denorm_data, i)\n",
    "            denorm_recon_batch[i] = denormalize(denorm_recon_batch, i)\n",
    "        verified_denorm_data, verified_denorm_recon_batch = mass_verifier(denorm_data, denorm_recon_batch)\n",
    "        torch.autograd.set_detect_anomaly(True)\n",
    "        loss = loss_function(verified_denorm_recon_batch, verified_denorm_data, mu, log_var, beta)\n",
    "        loss.backward()\n",
    "        train_loss += loss.item()\n",
    "        len_verif = verified_denorm_recon_batch.size()[1]\n",
    "        optimizer.step()\n",
    "    return train_loss / len_verif\n",
    "\n",
    "def validate(model, valloader, beta):\n",
    "    model.eval()\n",
    "    val_loss = 0\n",
    "    len_verif = 0\n",
    "    with torch.no_grad():\n",
    "        for data in valloader:\n",
    "            data = data[0].to(device)\n",
    "            recon_batch, mu, log_var = model(data)\n",
    "            denorm_data, denorm_recon_batch = torch.transpose(data, 1, 0), torch.transpose(recon_batch, 1, 0)\n",
    "            for i in range(nVar):\n",
    "                denorm_data[i] = denormalize(denorm_data, i)\n",
    "                denorm_recon_batch[i] = denormalize(denorm_recon_batch, i)\n",
    "            verified_denorm_data, verified_denorm_recon_batch = mass_verifier(denorm_data, denorm_recon_batch)\n",
    "            torch.autograd.set_detect_anomaly(True)\n",
    "            loss = loss_function(verified_denorm_recon_batch, verified_denorm_data, mu, log_var, beta)\n",
    "            val_loss += loss.item()\n",
    "            len_verif = denorm_recon_batch.size()[1]\n",
    "    return val_loss / len_verif\n",
    "\n",
    "class EarlyStopping:\n",
    "    def __init__(self, patience=10, min_delta=0):\n",
    "        self.patience = patience\n",
    "        self.min_delta = min_delta\n",
    "        self.best_loss = None\n",
    "        self.counter = 0\n",
    "\n",
    "    def __call__(self, val_loss):\n",
    "        if self.best_loss is None:\n",
    "            self.best_loss = val_loss\n",
    "            return False\n",
    "        elif val_loss < self.best_loss - self.min_delta:\n",
    "            self.best_loss = val_loss\n",
    "            self.counter = 0\n",
    "            return False\n",
    "        elif self.counter >= self.patience:\n",
    "            return True\n",
    "        self.counter += 1\n",
    "        return False"
   ]
  },
  {
   "cell_type": "markdown",
   "metadata": {
    "id": "WMB7sC4oHdlV"
   },
   "source": [
    "Em seguida, é definida a função objetivo para a otimização de hiperparâmetros usando Optuna. A função objective sugere valores para os seguintes hiperparâmetros: número de camadas ocultas (n_layers), as dimensões dessas camadas (h_dims), a dimensão do espaço latente (z_dim), a função de ativação (activation_name), o tamanho do batch (batch_size), a taxa de aprendizado (lr) e o otimizador (optimizer_name). Com esses hiperparâmetros, o modelo de VAE é instanciado e configurado. O DataLoader é usado para carregar os dados de treinamento e validação com o tamanho de batch especificado. Dependendo do nome da função de ativação sugerida, a função correspondente é selecionada (ReLU, Tanh ou LeakyReLU). De forma semelhante, o otimizador é configurado de acordo com a sugestão (Adam ou RMSprop).\n",
    "\n",
    "O modelo é então treinado por um número definido de epochs, durante as quais a função train executa o treinamento e a função validate calcula a perda de validação. O método trial.report é usado para reportar a perda de validação para cada época, e trial.should_prune verifica se a tentativa deve ser interrompida antecipadamente se os resultados não estiverem melhorando, aplicando a técnica de pruning."
   ]
  },
  {
   "cell_type": "code",
   "execution_count": 16,
   "metadata": {
    "id": "yq191bnyq8vM"
   },
   "outputs": [],
   "source": [
    "def objective(trial):\n",
    "    n_layers = trial.suggest_int('n_layers', 2, 5)\n",
    "    h_dims = [trial.suggest_int(f'h_dim_{i}', 32, 256) for i in range(n_layers)]\n",
    "    z_dim = trial.suggest_int('z_dim', 2, 32)\n",
    "    activation_name = trial.suggest_categorical('activation', ['relu', 'tanh', 'leaky_relu'])\n",
    "    batch_size = trial.suggest_categorical('batch_size', [3000])\n",
    "    lr = trial.suggest_float('lr', 1e-5, 1e-2, log=True)\n",
    "    optimizer_name = trial.suggest_categorical('optimizer', ['Adam', 'RMSprop'])\n",
    "    beta = trial.suggest_float('beta', 0.8, 1.0)\n",
    "\n",
    "\n",
    "    if activation_name == 'relu':\n",
    "        activation = nn.ReLU()\n",
    "    elif activation_name == 'tanh':\n",
    "        activation = nn.Tanh()\n",
    "    else:\n",
    "        activation = nn.LeakyReLU()\n",
    "\n",
    "    trainloader = DataLoader(TensorDataset(x_train), shuffle=True, batch_size=batch_size)\n",
    "    valloader = DataLoader(TensorDataset(x_val), shuffle=False, batch_size=batch_size)\n",
    "\n",
    "    model = VAE(nVar, h_dims, z_dim, activation, beta).to(device)\n",
    "\n",
    "    if optimizer_name == 'Adam':\n",
    "        optimizer = optim.Adam(model.parameters(), lr=lr)\n",
    "    elif optimizer_name == 'RMSprop':\n",
    "        optimizer = optim.RMSprop(model.parameters(), lr=lr)\n",
    "\n",
    "    early_stopping = EarlyStopping(patience=10, min_delta=0.001)\n",
    "\n",
    "    for epoch in range(30): #era 30\n",
    "        train_loss = train(model, trainloader, optimizer, beta)\n",
    "        val_loss = validate(model, valloader, beta)\n",
    "        trial.report(val_loss, epoch)\n",
    "\n",
    "        if trial.should_prune():\n",
    "            raise optuna.exceptions.TrialPruned()\n",
    "\n",
    "        if early_stopping(val_loss):\n",
    "            break\n",
    "\n",
    "    return val_loss"
   ]
  },
  {
   "cell_type": "markdown",
   "metadata": {
    "id": "fzkrIBIuLGpU"
   },
   "source": [
    "Criar e executar o estudo de otimização de hiperparâmetros. O Optuna realiza a busca pelos melhores hiperparâmetros através de várias tentativas de treinamento. Após completar as tentativas, o melhor trial é recuperado. Os valores e parâmetros desse melhor ensaio são então impressos, mostrando o valor da função objetivo (a perda de validação) e os hiperparâmetros correspondentes que produziram o melhor desempenho do modelo.\n",
    "\n",
    "Aqui, é inputado o número de trials desejado."
   ]
  },
  {
   "cell_type": "code",
   "execution_count": 18,
   "metadata": {
    "scrolled": true
   },
   "outputs": [
    {
     "name": "stderr",
     "output_type": "stream",
     "text": [
      "[I 2025-03-20 17:05:17,216] A new study created in memory with name: no-name-a08c6698-7986-4398-928a-bd83181215f8\n",
      "C:\\Users\\vinic\\AppData\\Local\\Programs\\Python\\Python313\\Lib\\site-packages\\torch\\autograd\\graph.py:823: UserWarning: Error detected in AddmmBackward0. Traceback of forward call that caused the error:\n",
      "  File \"C:\\Users\\vinic\\AppData\\Local\\Programs\\Python\\Python313\\Lib\\runpy.py\", line 198, in _run_module_as_main\n",
      "    return _run_code(code, main_globals, None,\n",
      "  File \"C:\\Users\\vinic\\AppData\\Local\\Programs\\Python\\Python313\\Lib\\runpy.py\", line 88, in _run_code\n",
      "    exec(code, run_globals)\n",
      "  File \"C:\\Users\\vinic\\AppData\\Local\\Programs\\Python\\Python313\\Lib\\site-packages\\ipykernel_launcher.py\", line 18, in <module>\n",
      "    app.launch_new_instance()\n",
      "  File \"C:\\Users\\vinic\\AppData\\Local\\Programs\\Python\\Python313\\Lib\\site-packages\\traitlets\\config\\application.py\", line 1075, in launch_instance\n",
      "    app.start()\n",
      "  File \"C:\\Users\\vinic\\AppData\\Local\\Programs\\Python\\Python313\\Lib\\site-packages\\ipykernel\\kernelapp.py\", line 739, in start\n",
      "    self.io_loop.start()\n",
      "  File \"C:\\Users\\vinic\\AppData\\Local\\Programs\\Python\\Python313\\Lib\\site-packages\\tornado\\platform\\asyncio.py\", line 205, in start\n",
      "    self.asyncio_loop.run_forever()\n",
      "  File \"C:\\Users\\vinic\\AppData\\Local\\Programs\\Python\\Python313\\Lib\\asyncio\\base_events.py\", line 683, in run_forever\n",
      "    self._run_once()\n",
      "  File \"C:\\Users\\vinic\\AppData\\Local\\Programs\\Python\\Python313\\Lib\\asyncio\\base_events.py\", line 2040, in _run_once\n",
      "    handle._run()\n",
      "  File \"C:\\Users\\vinic\\AppData\\Local\\Programs\\Python\\Python313\\Lib\\asyncio\\events.py\", line 89, in _run\n",
      "    self._context.run(self._callback, *self._args)\n",
      "  File \"C:\\Users\\vinic\\AppData\\Local\\Programs\\Python\\Python313\\Lib\\site-packages\\ipykernel\\kernelbase.py\", line 545, in dispatch_queue\n",
      "    await self.process_one()\n",
      "  File \"C:\\Users\\vinic\\AppData\\Local\\Programs\\Python\\Python313\\Lib\\site-packages\\ipykernel\\kernelbase.py\", line 534, in process_one\n",
      "    await dispatch(*args)\n",
      "  File \"C:\\Users\\vinic\\AppData\\Local\\Programs\\Python\\Python313\\Lib\\site-packages\\ipykernel\\kernelbase.py\", line 437, in dispatch_shell\n",
      "    await result\n",
      "  File \"C:\\Users\\vinic\\AppData\\Local\\Programs\\Python\\Python313\\Lib\\site-packages\\ipykernel\\ipkernel.py\", line 362, in execute_request\n",
      "    await super().execute_request(stream, ident, parent)\n",
      "  File \"C:\\Users\\vinic\\AppData\\Local\\Programs\\Python\\Python313\\Lib\\site-packages\\ipykernel\\kernelbase.py\", line 778, in execute_request\n",
      "    reply_content = await reply_content\n",
      "  File \"C:\\Users\\vinic\\AppData\\Local\\Programs\\Python\\Python313\\Lib\\site-packages\\ipykernel\\ipkernel.py\", line 449, in do_execute\n",
      "    res = shell.run_cell(\n",
      "  File \"C:\\Users\\vinic\\AppData\\Local\\Programs\\Python\\Python313\\Lib\\site-packages\\ipykernel\\zmqshell.py\", line 549, in run_cell\n",
      "    return super().run_cell(*args, **kwargs)\n",
      "  File \"C:\\Users\\vinic\\AppData\\Local\\Programs\\Python\\Python313\\Lib\\site-packages\\IPython\\core\\interactiveshell.py\", line 3047, in run_cell\n",
      "    result = self._run_cell(\n",
      "  File \"C:\\Users\\vinic\\AppData\\Local\\Programs\\Python\\Python313\\Lib\\site-packages\\IPython\\core\\interactiveshell.py\", line 3102, in _run_cell\n",
      "    result = runner(coro)\n",
      "  File \"C:\\Users\\vinic\\AppData\\Local\\Programs\\Python\\Python313\\Lib\\site-packages\\IPython\\core\\async_helpers.py\", line 128, in _pseudo_sync_runner\n",
      "    coro.send(None)\n",
      "  File \"C:\\Users\\vinic\\AppData\\Local\\Programs\\Python\\Python313\\Lib\\site-packages\\IPython\\core\\interactiveshell.py\", line 3306, in run_cell_async\n",
      "    has_raised = await self.run_ast_nodes(code_ast.body, cell_name,\n",
      "  File \"C:\\Users\\vinic\\AppData\\Local\\Programs\\Python\\Python313\\Lib\\site-packages\\IPython\\core\\interactiveshell.py\", line 3489, in run_ast_nodes\n",
      "    if await self.run_code(code, result, async_=asy):\n",
      "  File \"C:\\Users\\vinic\\AppData\\Local\\Programs\\Python\\Python313\\Lib\\site-packages\\IPython\\core\\interactiveshell.py\", line 3549, in run_code\n",
      "    exec(code_obj, self.user_global_ns, self.user_ns)\n",
      "  File \"C:\\Users\\vinic\\AppData\\Local\\Temp\\ipykernel_99068\\2010673274.py\", line 2, in <module>\n",
      "    study.optimize(objective, n_trials=30) # VOLTAR PARA 30!!!\n",
      "  File \"C:\\Users\\vinic\\AppData\\Local\\Programs\\Python\\Python313\\Lib\\site-packages\\optuna\\study\\study.py\", line 475, in optimize\n",
      "    _optimize(\n",
      "  File \"C:\\Users\\vinic\\AppData\\Local\\Programs\\Python\\Python313\\Lib\\site-packages\\optuna\\study\\_optimize.py\", line 63, in _optimize\n",
      "    _optimize_sequential(\n",
      "  File \"C:\\Users\\vinic\\AppData\\Local\\Programs\\Python\\Python313\\Lib\\site-packages\\optuna\\study\\_optimize.py\", line 160, in _optimize_sequential\n",
      "    frozen_trial = _run_trial(study, func, catch)\n",
      "  File \"C:\\Users\\vinic\\AppData\\Local\\Programs\\Python\\Python313\\Lib\\site-packages\\optuna\\study\\_optimize.py\", line 197, in _run_trial\n",
      "    value_or_values = func(trial)\n",
      "  File \"C:\\Users\\vinic\\AppData\\Local\\Temp\\ipykernel_99068\\2386744144.py\", line 32, in objective\n",
      "    train_loss = train(model, trainloader, optimizer, beta)\n",
      "  File \"C:\\Users\\vinic\\AppData\\Local\\Temp\\ipykernel_99068\\2152950716.py\", line 8, in train\n",
      "    recon_batch, mu, log_var = model(data)\n",
      "  File \"C:\\Users\\vinic\\AppData\\Local\\Programs\\Python\\Python313\\Lib\\site-packages\\torch\\nn\\modules\\module.py\", line 1739, in _wrapped_call_impl\n",
      "    return self._call_impl(*args, **kwargs)\n",
      "  File \"C:\\Users\\vinic\\AppData\\Local\\Programs\\Python\\Python313\\Lib\\site-packages\\torch\\nn\\modules\\module.py\", line 1750, in _call_impl\n",
      "    return forward_call(*args, **kwargs)\n",
      "  File \"C:\\Users\\vinic\\AppData\\Local\\Temp\\ipykernel_99068\\2809114292.py\", line 41, in forward\n",
      "    mu, log_var = self.encoder(x)\n",
      "  File \"C:\\Users\\vinic\\AppData\\Local\\Temp\\ipykernel_99068\\2809114292.py\", line 28, in encoder\n",
      "    h = self.encoder_layers(x)\n",
      "  File \"C:\\Users\\vinic\\AppData\\Local\\Programs\\Python\\Python313\\Lib\\site-packages\\torch\\nn\\modules\\module.py\", line 1739, in _wrapped_call_impl\n",
      "    return self._call_impl(*args, **kwargs)\n",
      "  File \"C:\\Users\\vinic\\AppData\\Local\\Programs\\Python\\Python313\\Lib\\site-packages\\torch\\nn\\modules\\module.py\", line 1750, in _call_impl\n",
      "    return forward_call(*args, **kwargs)\n",
      "  File \"C:\\Users\\vinic\\AppData\\Local\\Programs\\Python\\Python313\\Lib\\site-packages\\torch\\nn\\modules\\container.py\", line 250, in forward\n",
      "    input = module(input)\n",
      "  File \"C:\\Users\\vinic\\AppData\\Local\\Programs\\Python\\Python313\\Lib\\site-packages\\torch\\nn\\modules\\module.py\", line 1739, in _wrapped_call_impl\n",
      "    return self._call_impl(*args, **kwargs)\n",
      "  File \"C:\\Users\\vinic\\AppData\\Local\\Programs\\Python\\Python313\\Lib\\site-packages\\torch\\nn\\modules\\module.py\", line 1750, in _call_impl\n",
      "    return forward_call(*args, **kwargs)\n",
      "  File \"C:\\Users\\vinic\\AppData\\Local\\Programs\\Python\\Python313\\Lib\\site-packages\\torch\\nn\\modules\\linear.py\", line 125, in forward\n",
      "    return F.linear(input, self.weight, self.bias)\n",
      " (Triggered internally at C:\\actions-runner\\_work\\pytorch\\pytorch\\pytorch\\torch\\csrc\\autograd\\python_anomaly_mode.cpp:127.)\n",
      "  return Variable._execution_engine.run_backward(  # Calls into the C++ engine to run the backward pass\n",
      "[W 2025-03-20 17:05:17,593] Trial 0 failed with parameters: {'n_layers': 4, 'h_dim_0': 171, 'h_dim_1': 183, 'h_dim_2': 157, 'h_dim_3': 190, 'z_dim': 19, 'activation': 'leaky_relu', 'batch_size': 3000, 'lr': 0.00021665563566942577, 'optimizer': 'RMSprop', 'beta': 0.9802905880541959} because of the following error: RuntimeError('one of the variables needed for gradient computation has been modified by an inplace operation: [torch.cuda.FloatTensor [3000, 8]] is at version 8; expected version 0 instead. Hint: the backtrace further above shows the operation that failed to compute its gradient. The variable in question was changed in there or anywhere later. Good luck!').\n",
      "Traceback (most recent call last):\n",
      "  File \"C:\\Users\\vinic\\AppData\\Local\\Programs\\Python\\Python313\\Lib\\site-packages\\optuna\\study\\_optimize.py\", line 197, in _run_trial\n",
      "    value_or_values = func(trial)\n",
      "  File \"C:\\Users\\vinic\\AppData\\Local\\Temp\\ipykernel_99068\\2386744144.py\", line 32, in objective\n",
      "    train_loss = train(model, trainloader, optimizer, beta)\n",
      "  File \"C:\\Users\\vinic\\AppData\\Local\\Temp\\ipykernel_99068\\2152950716.py\", line 16, in train\n",
      "    loss.backward()\n",
      "    ~~~~~~~~~~~~~^^\n",
      "  File \"C:\\Users\\vinic\\AppData\\Local\\Programs\\Python\\Python313\\Lib\\site-packages\\torch\\_tensor.py\", line 626, in backward\n",
      "    torch.autograd.backward(\n",
      "    ~~~~~~~~~~~~~~~~~~~~~~~^\n",
      "        self, gradient, retain_graph, create_graph, inputs=inputs\n",
      "        ^^^^^^^^^^^^^^^^^^^^^^^^^^^^^^^^^^^^^^^^^^^^^^^^^^^^^^^^^\n",
      "    )\n",
      "    ^\n",
      "  File \"C:\\Users\\vinic\\AppData\\Local\\Programs\\Python\\Python313\\Lib\\site-packages\\torch\\autograd\\__init__.py\", line 347, in backward\n",
      "    _engine_run_backward(\n",
      "    ~~~~~~~~~~~~~~~~~~~~^\n",
      "        tensors,\n",
      "        ^^^^^^^^\n",
      "    ...<5 lines>...\n",
      "        accumulate_grad=True,\n",
      "        ^^^^^^^^^^^^^^^^^^^^^\n",
      "    )\n",
      "    ^\n",
      "  File \"C:\\Users\\vinic\\AppData\\Local\\Programs\\Python\\Python313\\Lib\\site-packages\\torch\\autograd\\graph.py\", line 823, in _engine_run_backward\n",
      "    return Variable._execution_engine.run_backward(  # Calls into the C++ engine to run the backward pass\n",
      "           ~~~~~~~~~~~~~~~~~~~~~~~~~~~~~~~~~~~~~~~^^^^^^^^^^^^^^^^^^^^^^^^^^^^^^^^^^^^^^^^^^^^^^^^^^^^^^^\n",
      "        t_outputs, *args, **kwargs\n",
      "        ^^^^^^^^^^^^^^^^^^^^^^^^^^\n",
      "    )  # Calls into the C++ engine to run the backward pass\n",
      "    ^\n",
      "RuntimeError: one of the variables needed for gradient computation has been modified by an inplace operation: [torch.cuda.FloatTensor [3000, 8]] is at version 8; expected version 0 instead. Hint: the backtrace further above shows the operation that failed to compute its gradient. The variable in question was changed in there or anywhere later. Good luck!\n",
      "[W 2025-03-20 17:05:17,596] Trial 0 failed with value None.\n"
     ]
    },
    {
     "ename": "RuntimeError",
     "evalue": "one of the variables needed for gradient computation has been modified by an inplace operation: [torch.cuda.FloatTensor [3000, 8]] is at version 8; expected version 0 instead. Hint: the backtrace further above shows the operation that failed to compute its gradient. The variable in question was changed in there or anywhere later. Good luck!",
     "output_type": "error",
     "traceback": [
      "\u001b[31m---------------------------------------------------------------------------\u001b[39m",
      "\u001b[31mRuntimeError\u001b[39m                              Traceback (most recent call last)",
      "\u001b[36mCell\u001b[39m\u001b[36m \u001b[39m\u001b[32mIn[18]\u001b[39m\u001b[32m, line 2\u001b[39m\n\u001b[32m      1\u001b[39m study = optuna.create_study(direction=\u001b[33m'\u001b[39m\u001b[33mminimize\u001b[39m\u001b[33m'\u001b[39m)\n\u001b[32m----> \u001b[39m\u001b[32m2\u001b[39m \u001b[43mstudy\u001b[49m\u001b[43m.\u001b[49m\u001b[43moptimize\u001b[49m\u001b[43m(\u001b[49m\u001b[43mobjective\u001b[49m\u001b[43m,\u001b[49m\u001b[43m \u001b[49m\u001b[43mn_trials\u001b[49m\u001b[43m=\u001b[49m\u001b[32;43m30\u001b[39;49m\u001b[43m)\u001b[49m \u001b[38;5;66;03m# VOLTAR PARA 30!!!\u001b[39;00m\n\u001b[32m      4\u001b[39m \u001b[38;5;28mprint\u001b[39m(\u001b[33m'\u001b[39m\u001b[33mBest trial:\u001b[39m\u001b[33m'\u001b[39m)\n\u001b[32m      5\u001b[39m trial = study.best_trial\n",
      "\u001b[36mFile \u001b[39m\u001b[32m~\\AppData\\Local\\Programs\\Python\\Python313\\Lib\\site-packages\\optuna\\study\\study.py:475\u001b[39m, in \u001b[36mStudy.optimize\u001b[39m\u001b[34m(self, func, n_trials, timeout, n_jobs, catch, callbacks, gc_after_trial, show_progress_bar)\u001b[39m\n\u001b[32m    373\u001b[39m \u001b[38;5;28;01mdef\u001b[39;00m\u001b[38;5;250m \u001b[39m\u001b[34moptimize\u001b[39m(\n\u001b[32m    374\u001b[39m     \u001b[38;5;28mself\u001b[39m,\n\u001b[32m    375\u001b[39m     func: ObjectiveFuncType,\n\u001b[32m   (...)\u001b[39m\u001b[32m    382\u001b[39m     show_progress_bar: \u001b[38;5;28mbool\u001b[39m = \u001b[38;5;28;01mFalse\u001b[39;00m,\n\u001b[32m    383\u001b[39m ) -> \u001b[38;5;28;01mNone\u001b[39;00m:\n\u001b[32m    384\u001b[39m \u001b[38;5;250m    \u001b[39m\u001b[33;03m\"\"\"Optimize an objective function.\u001b[39;00m\n\u001b[32m    385\u001b[39m \n\u001b[32m    386\u001b[39m \u001b[33;03m    Optimization is done by choosing a suitable set of hyperparameter values from a given\u001b[39;00m\n\u001b[32m   (...)\u001b[39m\u001b[32m    473\u001b[39m \u001b[33;03m            If nested invocation of this method occurs.\u001b[39;00m\n\u001b[32m    474\u001b[39m \u001b[33;03m    \"\"\"\u001b[39;00m\n\u001b[32m--> \u001b[39m\u001b[32m475\u001b[39m     \u001b[43m_optimize\u001b[49m\u001b[43m(\u001b[49m\n\u001b[32m    476\u001b[39m \u001b[43m        \u001b[49m\u001b[43mstudy\u001b[49m\u001b[43m=\u001b[49m\u001b[38;5;28;43mself\u001b[39;49m\u001b[43m,\u001b[49m\n\u001b[32m    477\u001b[39m \u001b[43m        \u001b[49m\u001b[43mfunc\u001b[49m\u001b[43m=\u001b[49m\u001b[43mfunc\u001b[49m\u001b[43m,\u001b[49m\n\u001b[32m    478\u001b[39m \u001b[43m        \u001b[49m\u001b[43mn_trials\u001b[49m\u001b[43m=\u001b[49m\u001b[43mn_trials\u001b[49m\u001b[43m,\u001b[49m\n\u001b[32m    479\u001b[39m \u001b[43m        \u001b[49m\u001b[43mtimeout\u001b[49m\u001b[43m=\u001b[49m\u001b[43mtimeout\u001b[49m\u001b[43m,\u001b[49m\n\u001b[32m    480\u001b[39m \u001b[43m        \u001b[49m\u001b[43mn_jobs\u001b[49m\u001b[43m=\u001b[49m\u001b[43mn_jobs\u001b[49m\u001b[43m,\u001b[49m\n\u001b[32m    481\u001b[39m \u001b[43m        \u001b[49m\u001b[43mcatch\u001b[49m\u001b[43m=\u001b[49m\u001b[38;5;28;43mtuple\u001b[39;49m\u001b[43m(\u001b[49m\u001b[43mcatch\u001b[49m\u001b[43m)\u001b[49m\u001b[43m \u001b[49m\u001b[38;5;28;43;01mif\u001b[39;49;00m\u001b[43m \u001b[49m\u001b[38;5;28;43misinstance\u001b[39;49m\u001b[43m(\u001b[49m\u001b[43mcatch\u001b[49m\u001b[43m,\u001b[49m\u001b[43m \u001b[49m\u001b[43mIterable\u001b[49m\u001b[43m)\u001b[49m\u001b[43m \u001b[49m\u001b[38;5;28;43;01melse\u001b[39;49;00m\u001b[43m \u001b[49m\u001b[43m(\u001b[49m\u001b[43mcatch\u001b[49m\u001b[43m,\u001b[49m\u001b[43m)\u001b[49m\u001b[43m,\u001b[49m\n\u001b[32m    482\u001b[39m \u001b[43m        \u001b[49m\u001b[43mcallbacks\u001b[49m\u001b[43m=\u001b[49m\u001b[43mcallbacks\u001b[49m\u001b[43m,\u001b[49m\n\u001b[32m    483\u001b[39m \u001b[43m        \u001b[49m\u001b[43mgc_after_trial\u001b[49m\u001b[43m=\u001b[49m\u001b[43mgc_after_trial\u001b[49m\u001b[43m,\u001b[49m\n\u001b[32m    484\u001b[39m \u001b[43m        \u001b[49m\u001b[43mshow_progress_bar\u001b[49m\u001b[43m=\u001b[49m\u001b[43mshow_progress_bar\u001b[49m\u001b[43m,\u001b[49m\n\u001b[32m    485\u001b[39m \u001b[43m    \u001b[49m\u001b[43m)\u001b[49m\n",
      "\u001b[36mFile \u001b[39m\u001b[32m~\\AppData\\Local\\Programs\\Python\\Python313\\Lib\\site-packages\\optuna\\study\\_optimize.py:63\u001b[39m, in \u001b[36m_optimize\u001b[39m\u001b[34m(study, func, n_trials, timeout, n_jobs, catch, callbacks, gc_after_trial, show_progress_bar)\u001b[39m\n\u001b[32m     61\u001b[39m \u001b[38;5;28;01mtry\u001b[39;00m:\n\u001b[32m     62\u001b[39m     \u001b[38;5;28;01mif\u001b[39;00m n_jobs == \u001b[32m1\u001b[39m:\n\u001b[32m---> \u001b[39m\u001b[32m63\u001b[39m         \u001b[43m_optimize_sequential\u001b[49m\u001b[43m(\u001b[49m\n\u001b[32m     64\u001b[39m \u001b[43m            \u001b[49m\u001b[43mstudy\u001b[49m\u001b[43m,\u001b[49m\n\u001b[32m     65\u001b[39m \u001b[43m            \u001b[49m\u001b[43mfunc\u001b[49m\u001b[43m,\u001b[49m\n\u001b[32m     66\u001b[39m \u001b[43m            \u001b[49m\u001b[43mn_trials\u001b[49m\u001b[43m,\u001b[49m\n\u001b[32m     67\u001b[39m \u001b[43m            \u001b[49m\u001b[43mtimeout\u001b[49m\u001b[43m,\u001b[49m\n\u001b[32m     68\u001b[39m \u001b[43m            \u001b[49m\u001b[43mcatch\u001b[49m\u001b[43m,\u001b[49m\n\u001b[32m     69\u001b[39m \u001b[43m            \u001b[49m\u001b[43mcallbacks\u001b[49m\u001b[43m,\u001b[49m\n\u001b[32m     70\u001b[39m \u001b[43m            \u001b[49m\u001b[43mgc_after_trial\u001b[49m\u001b[43m,\u001b[49m\n\u001b[32m     71\u001b[39m \u001b[43m            \u001b[49m\u001b[43mreseed_sampler_rng\u001b[49m\u001b[43m=\u001b[49m\u001b[38;5;28;43;01mFalse\u001b[39;49;00m\u001b[43m,\u001b[49m\n\u001b[32m     72\u001b[39m \u001b[43m            \u001b[49m\u001b[43mtime_start\u001b[49m\u001b[43m=\u001b[49m\u001b[38;5;28;43;01mNone\u001b[39;49;00m\u001b[43m,\u001b[49m\n\u001b[32m     73\u001b[39m \u001b[43m            \u001b[49m\u001b[43mprogress_bar\u001b[49m\u001b[43m=\u001b[49m\u001b[43mprogress_bar\u001b[49m\u001b[43m,\u001b[49m\n\u001b[32m     74\u001b[39m \u001b[43m        \u001b[49m\u001b[43m)\u001b[49m\n\u001b[32m     75\u001b[39m     \u001b[38;5;28;01melse\u001b[39;00m:\n\u001b[32m     76\u001b[39m         \u001b[38;5;28;01mif\u001b[39;00m n_jobs == -\u001b[32m1\u001b[39m:\n",
      "\u001b[36mFile \u001b[39m\u001b[32m~\\AppData\\Local\\Programs\\Python\\Python313\\Lib\\site-packages\\optuna\\study\\_optimize.py:160\u001b[39m, in \u001b[36m_optimize_sequential\u001b[39m\u001b[34m(study, func, n_trials, timeout, catch, callbacks, gc_after_trial, reseed_sampler_rng, time_start, progress_bar)\u001b[39m\n\u001b[32m    157\u001b[39m         \u001b[38;5;28;01mbreak\u001b[39;00m\n\u001b[32m    159\u001b[39m \u001b[38;5;28;01mtry\u001b[39;00m:\n\u001b[32m--> \u001b[39m\u001b[32m160\u001b[39m     frozen_trial = \u001b[43m_run_trial\u001b[49m\u001b[43m(\u001b[49m\u001b[43mstudy\u001b[49m\u001b[43m,\u001b[49m\u001b[43m \u001b[49m\u001b[43mfunc\u001b[49m\u001b[43m,\u001b[49m\u001b[43m \u001b[49m\u001b[43mcatch\u001b[49m\u001b[43m)\u001b[49m\n\u001b[32m    161\u001b[39m \u001b[38;5;28;01mfinally\u001b[39;00m:\n\u001b[32m    162\u001b[39m     \u001b[38;5;66;03m# The following line mitigates memory problems that can be occurred in some\u001b[39;00m\n\u001b[32m    163\u001b[39m     \u001b[38;5;66;03m# environments (e.g., services that use computing containers such as GitHub Actions).\u001b[39;00m\n\u001b[32m    164\u001b[39m     \u001b[38;5;66;03m# Please refer to the following PR for further details:\u001b[39;00m\n\u001b[32m    165\u001b[39m     \u001b[38;5;66;03m# https://github.com/optuna/optuna/pull/325.\u001b[39;00m\n\u001b[32m    166\u001b[39m     \u001b[38;5;28;01mif\u001b[39;00m gc_after_trial:\n",
      "\u001b[36mFile \u001b[39m\u001b[32m~\\AppData\\Local\\Programs\\Python\\Python313\\Lib\\site-packages\\optuna\\study\\_optimize.py:248\u001b[39m, in \u001b[36m_run_trial\u001b[39m\u001b[34m(study, func, catch)\u001b[39m\n\u001b[32m    241\u001b[39m         \u001b[38;5;28;01massert\u001b[39;00m \u001b[38;5;28;01mFalse\u001b[39;00m, \u001b[33m\"\u001b[39m\u001b[33mShould not reach.\u001b[39m\u001b[33m\"\u001b[39m\n\u001b[32m    243\u001b[39m \u001b[38;5;28;01mif\u001b[39;00m (\n\u001b[32m    244\u001b[39m     frozen_trial.state == TrialState.FAIL\n\u001b[32m    245\u001b[39m     \u001b[38;5;129;01mand\u001b[39;00m func_err \u001b[38;5;129;01mis\u001b[39;00m \u001b[38;5;129;01mnot\u001b[39;00m \u001b[38;5;28;01mNone\u001b[39;00m\n\u001b[32m    246\u001b[39m     \u001b[38;5;129;01mand\u001b[39;00m \u001b[38;5;129;01mnot\u001b[39;00m \u001b[38;5;28misinstance\u001b[39m(func_err, catch)\n\u001b[32m    247\u001b[39m ):\n\u001b[32m--> \u001b[39m\u001b[32m248\u001b[39m     \u001b[38;5;28;01mraise\u001b[39;00m func_err\n\u001b[32m    249\u001b[39m \u001b[38;5;28;01mreturn\u001b[39;00m frozen_trial\n",
      "\u001b[36mFile \u001b[39m\u001b[32m~\\AppData\\Local\\Programs\\Python\\Python313\\Lib\\site-packages\\optuna\\study\\_optimize.py:197\u001b[39m, in \u001b[36m_run_trial\u001b[39m\u001b[34m(study, func, catch)\u001b[39m\n\u001b[32m    195\u001b[39m \u001b[38;5;28;01mwith\u001b[39;00m get_heartbeat_thread(trial._trial_id, study._storage):\n\u001b[32m    196\u001b[39m     \u001b[38;5;28;01mtry\u001b[39;00m:\n\u001b[32m--> \u001b[39m\u001b[32m197\u001b[39m         value_or_values = \u001b[43mfunc\u001b[49m\u001b[43m(\u001b[49m\u001b[43mtrial\u001b[49m\u001b[43m)\u001b[49m\n\u001b[32m    198\u001b[39m     \u001b[38;5;28;01mexcept\u001b[39;00m exceptions.TrialPruned \u001b[38;5;28;01mas\u001b[39;00m e:\n\u001b[32m    199\u001b[39m         \u001b[38;5;66;03m# TODO(mamu): Handle multi-objective cases.\u001b[39;00m\n\u001b[32m    200\u001b[39m         state = TrialState.PRUNED\n",
      "\u001b[36mCell\u001b[39m\u001b[36m \u001b[39m\u001b[32mIn[16]\u001b[39m\u001b[32m, line 32\u001b[39m, in \u001b[36mobjective\u001b[39m\u001b[34m(trial)\u001b[39m\n\u001b[32m     29\u001b[39m early_stopping = EarlyStopping(patience=\u001b[32m10\u001b[39m, min_delta=\u001b[32m0.001\u001b[39m)\n\u001b[32m     31\u001b[39m \u001b[38;5;28;01mfor\u001b[39;00m epoch \u001b[38;5;129;01min\u001b[39;00m \u001b[38;5;28mrange\u001b[39m(\u001b[32m30\u001b[39m): \u001b[38;5;66;03m#era 30\u001b[39;00m\n\u001b[32m---> \u001b[39m\u001b[32m32\u001b[39m     train_loss = \u001b[43mtrain\u001b[49m\u001b[43m(\u001b[49m\u001b[43mmodel\u001b[49m\u001b[43m,\u001b[49m\u001b[43m \u001b[49m\u001b[43mtrainloader\u001b[49m\u001b[43m,\u001b[49m\u001b[43m \u001b[49m\u001b[43moptimizer\u001b[49m\u001b[43m,\u001b[49m\u001b[43m \u001b[49m\u001b[43mbeta\u001b[49m\u001b[43m)\u001b[49m\n\u001b[32m     33\u001b[39m     val_loss = validate(model, valloader, beta)\n\u001b[32m     34\u001b[39m     trial.report(val_loss, epoch)\n",
      "\u001b[36mCell\u001b[39m\u001b[36m \u001b[39m\u001b[32mIn[15]\u001b[39m\u001b[32m, line 16\u001b[39m, in \u001b[36mtrain\u001b[39m\u001b[34m(model, trainloader, optimizer, beta)\u001b[39m\n\u001b[32m     14\u001b[39m torch.autograd.set_detect_anomaly(\u001b[38;5;28;01mTrue\u001b[39;00m)\n\u001b[32m     15\u001b[39m loss = loss_function(verified_denorm_recon_batch, verified_denorm_data, mu, log_var, beta)\n\u001b[32m---> \u001b[39m\u001b[32m16\u001b[39m \u001b[43mloss\u001b[49m\u001b[43m.\u001b[49m\u001b[43mbackward\u001b[49m\u001b[43m(\u001b[49m\u001b[43m)\u001b[49m\n\u001b[32m     17\u001b[39m train_loss += loss.item()\n\u001b[32m     18\u001b[39m len_verif = verified_denorm_recon_batch.size()[\u001b[32m1\u001b[39m]\n",
      "\u001b[36mFile \u001b[39m\u001b[32m~\\AppData\\Local\\Programs\\Python\\Python313\\Lib\\site-packages\\torch\\_tensor.py:626\u001b[39m, in \u001b[36mTensor.backward\u001b[39m\u001b[34m(self, gradient, retain_graph, create_graph, inputs)\u001b[39m\n\u001b[32m    616\u001b[39m \u001b[38;5;28;01mif\u001b[39;00m has_torch_function_unary(\u001b[38;5;28mself\u001b[39m):\n\u001b[32m    617\u001b[39m     \u001b[38;5;28;01mreturn\u001b[39;00m handle_torch_function(\n\u001b[32m    618\u001b[39m         Tensor.backward,\n\u001b[32m    619\u001b[39m         (\u001b[38;5;28mself\u001b[39m,),\n\u001b[32m   (...)\u001b[39m\u001b[32m    624\u001b[39m         inputs=inputs,\n\u001b[32m    625\u001b[39m     )\n\u001b[32m--> \u001b[39m\u001b[32m626\u001b[39m \u001b[43mtorch\u001b[49m\u001b[43m.\u001b[49m\u001b[43mautograd\u001b[49m\u001b[43m.\u001b[49m\u001b[43mbackward\u001b[49m\u001b[43m(\u001b[49m\n\u001b[32m    627\u001b[39m \u001b[43m    \u001b[49m\u001b[38;5;28;43mself\u001b[39;49m\u001b[43m,\u001b[49m\u001b[43m \u001b[49m\u001b[43mgradient\u001b[49m\u001b[43m,\u001b[49m\u001b[43m \u001b[49m\u001b[43mretain_graph\u001b[49m\u001b[43m,\u001b[49m\u001b[43m \u001b[49m\u001b[43mcreate_graph\u001b[49m\u001b[43m,\u001b[49m\u001b[43m \u001b[49m\u001b[43minputs\u001b[49m\u001b[43m=\u001b[49m\u001b[43minputs\u001b[49m\n\u001b[32m    628\u001b[39m \u001b[43m\u001b[49m\u001b[43m)\u001b[49m\n",
      "\u001b[36mFile \u001b[39m\u001b[32m~\\AppData\\Local\\Programs\\Python\\Python313\\Lib\\site-packages\\torch\\autograd\\__init__.py:347\u001b[39m, in \u001b[36mbackward\u001b[39m\u001b[34m(tensors, grad_tensors, retain_graph, create_graph, grad_variables, inputs)\u001b[39m\n\u001b[32m    342\u001b[39m     retain_graph = create_graph\n\u001b[32m    344\u001b[39m \u001b[38;5;66;03m# The reason we repeat the same comment below is that\u001b[39;00m\n\u001b[32m    345\u001b[39m \u001b[38;5;66;03m# some Python versions print out the first line of a multi-line function\u001b[39;00m\n\u001b[32m    346\u001b[39m \u001b[38;5;66;03m# calls in the traceback and some print out the last line\u001b[39;00m\n\u001b[32m--> \u001b[39m\u001b[32m347\u001b[39m \u001b[43m_engine_run_backward\u001b[49m\u001b[43m(\u001b[49m\n\u001b[32m    348\u001b[39m \u001b[43m    \u001b[49m\u001b[43mtensors\u001b[49m\u001b[43m,\u001b[49m\n\u001b[32m    349\u001b[39m \u001b[43m    \u001b[49m\u001b[43mgrad_tensors_\u001b[49m\u001b[43m,\u001b[49m\n\u001b[32m    350\u001b[39m \u001b[43m    \u001b[49m\u001b[43mretain_graph\u001b[49m\u001b[43m,\u001b[49m\n\u001b[32m    351\u001b[39m \u001b[43m    \u001b[49m\u001b[43mcreate_graph\u001b[49m\u001b[43m,\u001b[49m\n\u001b[32m    352\u001b[39m \u001b[43m    \u001b[49m\u001b[43minputs\u001b[49m\u001b[43m,\u001b[49m\n\u001b[32m    353\u001b[39m \u001b[43m    \u001b[49m\u001b[43mallow_unreachable\u001b[49m\u001b[43m=\u001b[49m\u001b[38;5;28;43;01mTrue\u001b[39;49;00m\u001b[43m,\u001b[49m\n\u001b[32m    354\u001b[39m \u001b[43m    \u001b[49m\u001b[43maccumulate_grad\u001b[49m\u001b[43m=\u001b[49m\u001b[38;5;28;43;01mTrue\u001b[39;49;00m\u001b[43m,\u001b[49m\n\u001b[32m    355\u001b[39m \u001b[43m\u001b[49m\u001b[43m)\u001b[49m\n",
      "\u001b[36mFile \u001b[39m\u001b[32m~\\AppData\\Local\\Programs\\Python\\Python313\\Lib\\site-packages\\torch\\autograd\\graph.py:823\u001b[39m, in \u001b[36m_engine_run_backward\u001b[39m\u001b[34m(t_outputs, *args, **kwargs)\u001b[39m\n\u001b[32m    821\u001b[39m     unregister_hooks = _register_logging_hooks_on_whole_graph(t_outputs)\n\u001b[32m    822\u001b[39m \u001b[38;5;28;01mtry\u001b[39;00m:\n\u001b[32m--> \u001b[39m\u001b[32m823\u001b[39m     \u001b[38;5;28;01mreturn\u001b[39;00m \u001b[43mVariable\u001b[49m\u001b[43m.\u001b[49m\u001b[43m_execution_engine\u001b[49m\u001b[43m.\u001b[49m\u001b[43mrun_backward\u001b[49m\u001b[43m(\u001b[49m\u001b[43m  \u001b[49m\u001b[38;5;66;43;03m# Calls into the C++ engine to run the backward pass\u001b[39;49;00m\n\u001b[32m    824\u001b[39m \u001b[43m        \u001b[49m\u001b[43mt_outputs\u001b[49m\u001b[43m,\u001b[49m\u001b[43m \u001b[49m\u001b[43m*\u001b[49m\u001b[43margs\u001b[49m\u001b[43m,\u001b[49m\u001b[43m \u001b[49m\u001b[43m*\u001b[49m\u001b[43m*\u001b[49m\u001b[43mkwargs\u001b[49m\n\u001b[32m    825\u001b[39m \u001b[43m    \u001b[49m\u001b[43m)\u001b[49m  \u001b[38;5;66;03m# Calls into the C++ engine to run the backward pass\u001b[39;00m\n\u001b[32m    826\u001b[39m \u001b[38;5;28;01mfinally\u001b[39;00m:\n\u001b[32m    827\u001b[39m     \u001b[38;5;28;01mif\u001b[39;00m attach_logging_hooks:\n",
      "\u001b[31mRuntimeError\u001b[39m: one of the variables needed for gradient computation has been modified by an inplace operation: [torch.cuda.FloatTensor [3000, 8]] is at version 8; expected version 0 instead. Hint: the backtrace further above shows the operation that failed to compute its gradient. The variable in question was changed in there or anywhere later. Good luck!"
     ]
    }
   ],
   "source": [
    "study = optuna.create_study(direction='minimize')\n",
    "study.optimize(objective, n_trials=30) # VOLTAR PARA 30!!!\n",
    "\n",
    "print('Best trial:')\n",
    "trial = study.best_trial\n",
    "print(' Value: ', trial.value)\n",
    "print(' Params: ')\n",
    "for key, value in trial.params.items():\n",
    "    print(f'    {key}: {value}')"
   ]
  },
  {
   "cell_type": "markdown",
   "metadata": {
    "id": "UMLUD9TON1DI"
   },
   "source": [
    "Os melhores hiperparâmetros encontrados pelo estudo Optuna são recuperados e usados para configurar o modelo VAE. Os melhores parâmetros são extraídos do trial vencedor e utilizados para definir a função de ativação (ReLU, Tanh ou Leaky ReLU), o tamanho do batch e a arquitetura do modelo. O DataLoader é configurado novamente com o melhor tamanho de batch para os dados de treino e validação. Um novo modelo VAE é criado usando os melhores hiperparâmetros. O otimizador apropriado (Adam ou RMSprop) é configurado com a melhor taxa de aprendizado encontrada."
   ]
  },
  {
   "cell_type": "code",
   "execution_count": null,
   "metadata": {
    "id": "qp0-mMvwrEZh"
   },
   "outputs": [],
   "source": [
    "best_params = trial.params\n",
    "if best_params['activation'] == 'relu':\n",
    "    activation = nn.ReLU()\n",
    "elif best_params['activation'] == 'tanh':\n",
    "    activation = nn.Tanh()\n",
    "else:\n",
    "    activation = nn.LeakyReLU()\n",
    "\n",
    "batch_size = best_params['batch_size']\n",
    "trainloader = DataLoader(TensorDataset(x_train), shuffle=True, batch_size=batch_size)\n",
    "valloader = DataLoader(TensorDataset(x_val), shuffle=False, batch_size=batch_size)\n",
    "\n",
    "model = VAE(nVar, [best_params[f'h_dim_{i}'] for i in range(best_params['n_layers'])], best_params['z_dim'], activation, best_params['beta']).to(device)\n",
    "\n",
    "if best_params['optimizer'] == 'Adam':\n",
    "    optimizer = optim.Adam(model.parameters(), lr=best_params['lr'])\n",
    "elif best_params['optimizer'] == 'RMSprop':\n",
    "    optimizer = optim.RMSprop(model.parameters(), lr=best_params['lr'])"
   ]
  },
  {
   "cell_type": "markdown",
   "metadata": {
    "id": "tk1v1J2jOKyD"
   },
   "source": [
    "Treinamento final com os melhores hiperparâmetros"
   ]
  },
  {
   "cell_type": "code",
   "execution_count": null,
   "metadata": {
    "id": "FfSsy3pqrEhx"
   },
   "outputs": [],
   "source": [
    "# Treinamento final com os melhores hiperparâmetros\n",
    "early_stopping = EarlyStopping(patience=20, min_delta=0.001)\n",
    "train_losses, val_losses = [], []\n",
    "for epoch in range(30):\n",
    "    print(f\"Training... (Epoch {epoch+1}/30)\")\n",
    "    train_loss = train(model, trainloader, optimizer, best_params['beta'])\n",
    "    val_loss = validate(model, valloader, best_params['beta'])\n",
    "    train_losses.append(train_loss)\n",
    "    val_losses.append(val_loss)\n",
    "\n",
    "    if early_stopping(val_loss):\n",
    "        break\n",
    "\n",
    "print('Final Train Loss:', train_loss)\n",
    "print('Final Validation Loss:', val_loss)"
   ]
  },
  {
   "cell_type": "markdown",
   "metadata": {
    "id": "X1Vv28FuOprA"
   },
   "source": [
    "O modelo é avaliado no conjunto de teste para calcular a perda final de teste"
   ]
  },
  {
   "cell_type": "code",
   "execution_count": null,
   "metadata": {
    "id": "KOK8N4JkrEvM"
   },
   "outputs": [],
   "source": [
    "# Teste final\n",
    "model.eval()\n",
    "test_loss = 0\n",
    "with torch.no_grad():\n",
    "    for data in testloader:\n",
    "        data = data[0].to(device)\n",
    "        recon_batch, mu, log_var = model(data)\n",
    "        loss = loss_function(recon_batch, data, mu, log_var, best_params['beta'])\n",
    "        test_loss += loss.item()\n",
    "test_loss /= len(testloader.dataset)\n",
    "print('Test Loss:', test_loss)"
   ]
  },
  {
   "cell_type": "markdown",
   "metadata": {
    "id": "Uq6X3KPKPPLa"
   },
   "source": [
    "Abaixo, se iniciam os plots. Primeiramente, temos o erro de reconstrução e KLD sendo minimizados no treinamento"
   ]
  },
  {
   "cell_type": "code",
   "execution_count": null,
   "metadata": {
    "id": "ywnjEgaTrE0G"
   },
   "outputs": [],
   "source": [
    "plt.figure(figsize=(10, 5))\n",
    "plt.plot(train_losses, label='Train Loss')\n",
    "plt.plot(val_losses, label='Validation Loss')\n",
    "plt.xlabel('Epochs')\n",
    "plt.ylabel('Loss')\n",
    "plt.title('Train and Validation Losses')\n",
    "plt.legend()\n",
    "plt.show()"
   ]
  },
  {
   "cell_type": "markdown",
   "metadata": {
    "id": "kZBY_mhiPcKi"
   },
   "source": [
    "Amostra do VAE tentando reproduzir o dataset de treino (dados normalizados)"
   ]
  },
  {
   "cell_type": "code",
   "execution_count": null,
   "metadata": {
    "id": "5cNMkRpqrE5S"
   },
   "outputs": [],
   "source": [
    "model.eval()\n",
    "with torch.no_grad():\n",
    "    recon_train, _, _ = model(x_train.to(device))\n",
    "\n",
    "plt.figure(figsize=(10, 5))\n",
    "plt.hist(x_train.cpu().numpy().flatten(), bins=80, range=[-3, 3], histtype='step', color='blue', label='Train Data')\n",
    "plt.hist(recon_train.cpu().numpy().flatten(), bins=80, range=[-3, 3], histtype='step', color='green', label='Reconstructed Train Data')\n",
    "plt.title('Train Data vs Reconstructed Train Data')\n",
    "plt.xlabel('Value')\n",
    "plt.ylabel('Frequency')\n",
    "plt.legend()\n",
    "plt.show()"
   ]
  },
  {
   "cell_type": "markdown",
   "metadata": {
    "id": "HJcBtr1OPlqN"
   },
   "source": [
    "Amostra do VAE tentando reproduzir o dataset de teste (dados normalizados)"
   ]
  },
  {
   "cell_type": "code",
   "execution_count": null,
   "metadata": {
    "id": "QQyotyULrFAy"
   },
   "outputs": [],
   "source": [
    "with torch.no_grad():\n",
    "    recon_test, _, _ = model(x_test.to(device))\n",
    "\n",
    "plt.figure(figsize=(10, 5))\n",
    "plt.hist(x_test.cpu().numpy().flatten(), bins=80, range=[-3, 3], histtype='step', color='red', label='Test Data')\n",
    "plt.hist(recon_test.cpu().numpy().flatten(), bins=80, range=[-3, 3], histtype='step', color='green', label='Reconstructed Test Data')\n",
    "plt.title('Test Data vs Reconstructed Test Data')\n",
    "plt.xlabel('Value')\n",
    "plt.ylabel('Frequency')\n",
    "plt.legend()\n",
    "plt.show()"
   ]
  },
  {
   "cell_type": "markdown",
   "metadata": {
    "id": "7NkEPwocPqew"
   },
   "source": [
    "Amostra do VAE tentando gerar novos dados que seguem a distribuição do input (dados normalizados)"
   ]
  },
  {
   "cell_type": "code",
   "execution_count": null,
   "metadata": {
    "id": "5-RHDj1OC_EK"
   },
   "outputs": [],
   "source": [
    "with torch.no_grad():\n",
    "    z = torch.randn(tensor_data.size(0), best_params['z_dim']).to(device)  # Gerar amostras com o mesmo tamanho dos dados de entrada\n",
    "    generated_data = model.decoder(z)\n",
    "\n",
    "plt.figure(figsize=(10, 5))\n",
    "plt.hist(tensor_data.numpy().flatten(), bins=80, range=[-3, 3], histtype='step', color='blue', label='Input Data')\n",
    "plt.hist(generated_data.cpu().numpy().flatten(), bins=80, range=[-3, 3], histtype='step', color='red', label='Generated Data')\n",
    "plt.title('Input Data vs Generated Data')\n",
    "plt.xlabel('Value')\n",
    "plt.ylabel('Frequency')\n",
    "plt.legend()\n",
    "plt.show()"
   ]
  },
  {
   "cell_type": "code",
   "execution_count": null,
   "metadata": {
    "id": "pQ4uuK_SAMid"
   },
   "outputs": [],
   "source": [
    "import scipy.stats as stats\n",
    "# Teste de Kolmogorov-Smirnov\n",
    "train_recon_ks = stats.ks_2samp(x_train.numpy().flatten(), recon_train.numpy().flatten())\n",
    "test_recon_ks = stats.ks_2samp(x_test.numpy().flatten(), recon_test.numpy().flatten())\n",
    "input_generated_ks = stats.ks_2samp(tensor_data.numpy().flatten(), generated_data.numpy().flatten())\n",
    "\n",
    "print(f\"KS test for Train vs. Reconstructed Train: statistic={train_recon_ks.statistic}, p-value={train_recon_ks.pvalue}\")\n",
    "print(f\"KS test for Test vs. Reconstructed Test: statistic={test_recon_ks.statistic}, p-value={test_recon_ks.pvalue}\")\n",
    "print(f\"KS test for Input vs. Generated: statistic={input_generated_ks.statistic}, p-value={input_generated_ks.pvalue}\")"
   ]
  },
  {
   "cell_type": "markdown",
   "metadata": {
    "id": "WQKgzFVVPzeu"
   },
   "source": [
    "Abaixo, iremos desnormalizar os dados para gerar plots com a distribuição original, retomando a problemática da distribuição dos momentos tranversais dos píons e dos kaons."
   ]
  },
  {
   "cell_type": "code",
   "execution_count": null,
   "metadata": {
    "id": "agdUzYx3GRFr"
   },
   "outputs": [],
   "source": [
    "# Desnormalizar os dados de treino, validação e teste\n",
    "x_train_denorm = torch.clone(x_train.cpu())\n",
    "x_test_denorm = torch.clone(x_test.cpu())\n",
    "for i in range(nVar):\n",
    "    x_train_denorm[i] = denormalize(x_train_denorm, i)\n",
    "    x_test_denorm[i] = denormalize(x_test_denorm, i)\n",
    "\n",
    "# Desnormalizar os dados reconstruídos e gerados\n",
    "with torch.no_grad():\n",
    "    # Reconstrução dos dados de treino\n",
    "    recon_train, _, _ = model(x_train.to(device))\n",
    "    for i in range(nVar):\n",
    "        recon_train[i] = denormalize(recon_train.cpu(), i)\n",
    "\n",
    "    # Reconstrução dos dados de teste\n",
    "    recon_test, _, _ = model(x_test.to(device))\n",
    "    for i in range(nVar):\n",
    "        recon_test[i] = denormalize(recon_test.cpu(), i)\n",
    "\n",
    "    # Geração de novos dados\n",
    "    z = torch.randn(tensor_data.size(0), best_params['z_dim']).to(device)\n",
    "    generated_data = model.decoder(z)\n",
    "    for i in range(nVar):\n",
    "        generated_data[i] = denormalize(generated_data.cpu(), i)\n",
    "\n",
    "# Desnormalizar os dados de entrada (linha azul)\n",
    "tensor_data_denorm = torch.clone(tensor_data)\n",
    "for i in range(nVar):\n",
    "    tensor_data_denorm[i] = denormalize(tensor_data, i)"
   ]
  },
  {
   "cell_type": "markdown",
   "metadata": {
    "id": "Pl7PICwEQAPB"
   },
   "source": [
    "Amostra do VAE tentando reproduzir o dataset de treino (dados desnormalizados)"
   ]
  },
  {
   "cell_type": "code",
   "execution_count": null,
   "metadata": {
    "id": "StnnxqhXGT4H"
   },
   "outputs": [],
   "source": [
    "plt.figure(figsize=(10, 5))\n",
    "plt.hist(x_train_denorm.numpy().flatten(), bins=80, range=[0, 4], histtype='step', color='blue', label='Train Data')\n",
    "plt.hist(recon_train.numpy().flatten(), bins=80, range=[0, 4], histtype='step', color='green', label='Reconstructed Train Data')\n",
    "plt.title('Train Data vs Reconstructed Train Data')\n",
    "plt.xlabel('Value')\n",
    "plt.ylabel('Frequency')\n",
    "plt.legend()\n",
    "plt.show()"
   ]
  },
  {
   "cell_type": "markdown",
   "metadata": {
    "id": "4MujyQYgQJH7"
   },
   "source": [
    "Amostra do VAE tentando reproduzir o dataset de teste (dados desnormalizados)"
   ]
  },
  {
   "cell_type": "code",
   "execution_count": null,
   "metadata": {
    "id": "6l33kQIQILn3"
   },
   "outputs": [],
   "source": [
    "plt.figure(figsize=(10, 5))\n",
    "plt.hist(x_test_denorm.numpy().flatten(), bins=80, range=[0, 4], histtype='step', color='red', label='Test Data')\n",
    "plt.hist(recon_test.numpy().flatten(), bins=80, range=[0, 4], histtype='step', color='green', label='Reconstructed Test Data')\n",
    "plt.title('Test Data vs Reconstructed Test Data')\n",
    "plt.xlabel('Value')\n",
    "plt.ylabel('Frequency')\n",
    "plt.legend()\n",
    "plt.show()"
   ]
  },
  {
   "cell_type": "markdown",
   "metadata": {
    "id": "brq_oCgAQNzm"
   },
   "source": [
    "Amostra do VAE tentando gerar novos dados que seguem a mesma distribuição do input (dados desnormalizados)"
   ]
  },
  {
   "cell_type": "code",
   "execution_count": null,
   "metadata": {
    "id": "rjSZ9zsRYWZt"
   },
   "outputs": [],
   "source": [
    "# PLOTS FUNCTION\n",
    "\n",
    "def subplot_trk(data, generated, trk):\n",
    "    if trk == \"trk1\":\n",
    "        id_list = [0, 2, 4, 6]\n",
    "        name_list = [\"Px1\", \"Py1\", \"Pz1\", \"E1\"]\n",
    "    if trk == \"trk2\":\n",
    "        id_list = [1, 3, 5, 7]\n",
    "        name_list = [\"Px2\", \"Py2\", \"Pz2\", \"E2\"]\n",
    "    if trk == \"both\":\n",
    "        px = data[(0,1), :].flatten()\n",
    "        py = data[(2,3), :].flatten()\n",
    "        pz = data[(4,5), :].flatten()\n",
    "        E = data[(6,7), :].flatten()\n",
    "        data = np.zeros([4, len(px)])\n",
    "        data[0][:] = px\n",
    "        data[1][:] = py\n",
    "        data[2][:] = pz\n",
    "        data[3][:] = E\n",
    "        px = generated[(0,1), :].flatten()\n",
    "        py = generated[(2,3), :].flatten()\n",
    "        pz = generated[(4,5), :].flatten()\n",
    "        E = generated[(6,7), :].flatten()\n",
    "        generated = np.zeros([4, len(px)])\n",
    "        generated[0][:] = px\n",
    "        generated[1][:] = py\n",
    "        generated[2][:] = pz\n",
    "        generated[3][:] = E\n",
    "        id_list = [0, 1, 2, 3]\n",
    "        name_list = [\"Px1+Px2\", \"Py1+Py2\", \"Pz1+Pz2\", \"E1+E2\"]\n",
    "    range_list = [[-4, 4], [-4, 4], [-4, 4], [0, 4]]\n",
    "\n",
    "    plt.figure(figsize=(10,10))\n",
    "\n",
    "    for i in range(len(id_list)):\n",
    "        plt.subplot(2, 2, i+1)\n",
    "        plt.hist(data[id_list[i]].flatten(), bins=80, range=range_list[i], histtype='step', color='blue', label='Input Data')\n",
    "        plt.hist(generated[id_list[i]].flatten(), bins=80, range=range_list[i], histtype='step', color='red', label='Generated Data')\n",
    "        plt.title(f'Input Data vs Generated Data ({name_list[i]})')\n",
    "        plt.xlabel('Value')\n",
    "        plt.ylabel('Frequency')\n",
    "        plt.legend()\n",
    "\n",
    "    return plt.show()"
   ]
  },
  {
   "cell_type": "code",
   "execution_count": null,
   "metadata": {},
   "outputs": [],
   "source": [
    "def test_plot(data, generated):\n",
    "    generated_px = generated[0] + generated[1]\n",
    "    generated_py = generated[2] + generated[3]\n",
    "    generated_pz = generated[4] + generated[5]\n",
    "    generated_E = generated[6] + generated[7]\n",
    "    generated_term = generated_E**2 - generated_px**2 - generated_py**2 - generated_pz**2\n",
    "    my_linspace = np.linspace(-10, 10, int(92269))\n",
    "    \n",
    "    plt.figure(figsize=(20, 10))\n",
    "    n_list = [5, 30, 150, 1000, 10000, 92269]\n",
    "    plt.title(\"E^2 - p^2\")\n",
    "    for i in range(6):\n",
    "        plt.subplot(2, 3, i+1)\n",
    "        plt.scatter(my_linspace[0:n_list[i]], generated_term[0:n_list[i]], color='red')\n",
    "        plt.plot(my_linspace[0:n_list[i]], np.zeros(92269)[0:n_list[i]], color='black')\n",
    "    return plt.show()"
   ]
  },
  {
   "cell_type": "code",
   "execution_count": null,
   "metadata": {
    "id": "hX_3lfx5IHkF"
   },
   "outputs": [],
   "source": [
    "if type(tensor_data_denorm) != type(np.array([])):\n",
    "    tensor_data_denorm = tensor_data_denorm.numpy()\n",
    "if tensor_data_denorm.shape == tensor_data.numpy().shape:\n",
    "    tensor_data_denorm = np.transpose(tensor_data_denorm)\n",
    "\n",
    "if type(generated_data) != type(np.array([])):\n",
    "    generated_data = generated_data.numpy()\n",
    "if generated_data.shape == tensor_data.numpy().shape:\n",
    "    generated_data = np.transpose(generated_data)\n",
    "\n",
    "plt.figure(figsize=(10, 5))\n",
    "plt.hist(tensor_data_denorm.flatten(), bins=80, range=[-4, 4], histtype='step', color='blue', label='Input Data')\n",
    "plt.hist(generated_data.flatten(), bins=80, range=[-4, 4], histtype='step', color='red', label='Generated Data')\n",
    "plt.title('Input Data vs Generated Data (All vars, trk1+trk2)')\n",
    "plt.xlabel('Value')\n",
    "plt.ylabel('Frequency')\n",
    "plt.legend()\n",
    "plt.show()\n",
    "\n",
    "subplot_trk(tensor_data_denorm, generated_data, \"trk1\")\n",
    "subplot_trk(tensor_data_denorm, generated_data, \"trk2\")\n",
    "subplot_trk(tensor_data_denorm, generated_data, \"both\")\n",
    "test_plot(tensor_data_denorm, generated_data)"
   ]
  },
  {
   "cell_type": "markdown",
   "metadata": {
    "id": "EyR9jprPQV5q"
   },
   "source": [
    "Abaixo, é rodado um teste de Kolmogorov-Smirnov para analisar a proximidade dos dois hitogramas em cada gráfico (apenas para as distribuições desnormalizadas). Uma das métricas de interesse é o p-valor.\n",
    "\n",
    "P-Valor Significativo: um p-valor abaixo de 0.05 é frequentemente considerado significativo, o que indica que a hipótese nula (de que as distribuições são iguais) pode ser rejeitada.\n",
    "\n",
    "P-Valor Não Significativo: Um p-valor acima de 0.05 geralmente sugere que não há evidência suficiente para rejeitar a hipótese nula. Valores como 0.10, 0.15, ou mais altos são interpretados como indicando uma falta de diferença significativa entre as distribuições.\n",
    "\n",
    "P-Valor > 0.05: Indica que não há uma diferença significativa entre as distribuições comparadas. Esse é um bom sinal, sugerindo que as distribuições dos dados gerados ou reconstruídos são semelhantes aos dados reais.\n",
    "\n",
    "P-Valor > 0.10 ou 0.15: Indica uma forte semelhança entre as distribuições, o que é ótimo."
   ]
  },
  {
   "cell_type": "code",
   "execution_count": null,
   "metadata": {
    "id": "5W0-WMYLLfvf"
   },
   "outputs": [],
   "source": [
    "import scipy.stats as stats\n",
    "# Teste de Kolmogorov-Smirnov\n",
    "train_recon_ks = stats.ks_2samp(x_train_denorm.flatten(), recon_train.flatten())\n",
    "test_recon_ks = stats.ks_2samp(x_test_denorm.flatten(), recon_test.flatten())\n",
    "input_generated_ks = stats.ks_2samp(tensor_data_denorm.flatten(), generated_data.flatten())\n",
    "\n",
    "print(f\"KS test for Train vs. Reconstructed Train: statistic={train_recon_ks.statistic}, p-value={train_recon_ks.pvalue}\")\n",
    "print(f\"KS test for Test vs. Reconstructed Test: statistic={test_recon_ks.statistic}, p-value={test_recon_ks.pvalue}\")\n",
    "print(f\"KS test for Input vs. Generated: statistic={input_generated_ks.statistic}, p-value={input_generated_ks.pvalue}\")"
   ]
  },
  {
   "cell_type": "code",
   "execution_count": null,
   "metadata": {
    "id": "obvB7hHdYWZu"
   },
   "outputs": [],
   "source": []
  }
 ],
 "metadata": {
  "colab": {
   "provenance": []
  },
  "kernelspec": {
   "display_name": "mlenv",
   "language": "python",
   "name": "my_kernel"
  },
  "language_info": {
   "codemirror_mode": {
    "name": "ipython",
    "version": 3
   },
   "file_extension": ".py",
   "mimetype": "text/x-python",
   "name": "python",
   "nbconvert_exporter": "python",
   "pygments_lexer": "ipython3",
   "version": "3.13.2"
  }
 },
 "nbformat": 4,
 "nbformat_minor": 4
}
