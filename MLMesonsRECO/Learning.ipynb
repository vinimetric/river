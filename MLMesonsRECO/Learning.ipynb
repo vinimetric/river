{
 "cells": [
  {
   "cell_type": "code",
   "execution_count": 5,
   "id": "9a3ce043",
   "metadata": {},
   "outputs": [
    {
     "name": "stdout",
     "output_type": "stream",
     "text": [
      "cuda\n"
     ]
    }
   ],
   "source": [
    "import timeit\n",
    "start_time = timeit.default_timer()\n",
    "import torch\n",
    "import torchvision\n",
    "import torchvision.transforms as transforms\n",
    "import torch.nn as nn\n",
    "import torch.nn.functional as F # type: ignore\n",
    "import numpy as np\n",
    "from torchvision.utils import save_image\n",
    "import matplotlib.pyplot as plt\n",
    "\n",
    "device = torch.device('cuda' if torch.cuda.is_available() else 'cpu')\n",
    "print(device)"
   ]
  },
  {
   "cell_type": "markdown",
   "id": "b3d7f3fd",
   "metadata": {},
   "source": [
    "##### Tensores\n",
    "\n",
    "```Tensor.shape[::]```  -->  [1]: número de features, [0]: número da dimensão das features\n",
    "\n"
   ]
  },
  {
   "cell_type": "code",
   "execution_count": 6,
   "id": "bcb41be3",
   "metadata": {},
   "outputs": [
    {
     "name": "stdout",
     "output_type": "stream",
     "text": [
      "tensor([[-4.9596, -2.1312, -0.1158, -0.1788,  0.7367, -0.2362,  5.0173,  2.2076],\n",
      "        [-1.7995, -1.5433, -0.9338, -0.7828, -1.7832, -2.2095,  2.7447,  2.8100],\n",
      "        [-1.5595, -1.6420,  0.8464,  0.9392,  0.8212, -0.7395,  1.9602,  2.0901]],\n",
      "       device='cuda:0')\n",
      "torch.Size([3, 8])\n",
      "8\n"
     ]
    }
   ],
   "source": [
    "data = np.loadtxt(\"data_D0_daughtersPx_Py_Pz_E_trk1_trk2.txt\", max_rows=3)\n",
    "data = torch.tensor(data, dtype=torch.float32).to(device)\n",
    "\n",
    "print(data)\n",
    "print(data.shape)\n",
    "\n",
    "nVar = data.shape[1]\n",
    "print(nVar)\n"
   ]
  },
  {
   "cell_type": "code",
   "execution_count": 7,
   "id": "c3ab345a",
   "metadata": {},
   "outputs": [
    {
     "name": "stdout",
     "output_type": "stream",
     "text": [
      "tensor([[-4.9596, -2.1312, -0.1158, -0.1788,  0.7367, -0.2362,  5.0173,  2.2076],\n",
      "        [-1.7995, -1.5433, -0.9338, -0.7828, -1.7832, -2.2095,  2.7447,  2.8100],\n",
      "        [-1.5595, -1.6420,  0.8464,  0.9392,  0.8212, -0.7395,  1.9602,  2.0901],\n",
      "        [ 1.0000,  1.0000,  1.0000,  1.0000,  1.0000,  1.0000,  1.0000,  1.0000]],\n",
      "       device='cuda:0')\n"
     ]
    }
   ],
   "source": [
    "\n",
    "data = np.loadtxt(\"data_D0_daughtersPx_Py_Pz_E_trk1_trk2.txt\", max_rows=3)\n",
    "data = torch.tensor(data, dtype=torch.float32).to(device)\n",
    "\n",
    "data = torch.cat((data, torch.ones(1, 8).to(device)), dim=0)\n",
    "\n",
    "#data.transpose_(0, 1) # to add new features as columns instead of rows.\n",
    "\n",
    "print(data)\n",
    "#print(data.__reversed__())\n"
   ]
  },
  {
   "cell_type": "markdown",
   "id": "78981089",
   "metadata": {},
   "source": [
    "##### The ```nn.linear```"
   ]
  },
  {
   "cell_type": "code",
   "execution_count": 8,
   "id": "89e8c90e",
   "metadata": {},
   "outputs": [],
   "source": [
    "A = torch.tensor([[1,2],[3,4]]).float()"
   ]
  },
  {
   "cell_type": "code",
   "execution_count": null,
   "metadata": {},
   "outputs": [
    {
     "name": "stdout",
     "output_type": "stream",
     "text": [
      "torch.Size([2, 2]) \n",
      "Tensor -> tensor([[1., 2.],\n",
      "        [3., 4.]]) \n",
      "=======\n"
     ]
    },
    {
     "ename": "NameError",
     "evalue": "name 'model' is not defined",
     "output_type": "error",
     "traceback": [
      "\u001b[31m---------------------------------------------------------------------------\u001b[39m",
      "\u001b[31mNameError\u001b[39m                                 Traceback (most recent call last)",
      "\u001b[36mCell\u001b[39m\u001b[36m \u001b[39m\u001b[32mIn[13]\u001b[39m\u001b[32m, line 4\u001b[39m\n\u001b[32m      1\u001b[39m \u001b[38;5;66;03m# https://pytorch.org/docs/stable/generated/torch.nn.Linear.html   \u001b[39;00m\n\u001b[32m      3\u001b[39m \u001b[38;5;28mprint\u001b[39m(A.shape, \u001b[33m\"\u001b[39m\u001b[38;5;130;01m\\n\u001b[39;00m\u001b[33mTensor ->\u001b[39m\u001b[33m\"\u001b[39m , A, \u001b[33m\"\u001b[39m\u001b[38;5;130;01m\\n\u001b[39;00m\u001b[33m=======\u001b[39m\u001b[33m\"\u001b[39m)\n\u001b[32m----> \u001b[39m\u001b[32m4\u001b[39m \u001b[43mmodel\u001b[49m.train()\n\u001b[32m      5\u001b[39m a = nn.Linear(\u001b[32m2\u001b[39m,\u001b[32m5\u001b[39m) \u001b[38;5;66;03m# 2 input features, 5 output features\u001b[39;00m\n\u001b[32m      7\u001b[39m a(A) \n",
      "\u001b[31mNameError\u001b[39m: name 'model' is not defined"
     ]
    }
   ],
   "source": [
    "# https://pytorch.org/docs/stable/generated/torch.nn.Linear.html   \n",
    "\n",
    "\n",
    "\n",
    "class VAE(nn.Module):\n",
    "    def __init__(self):\n",
    "        super().__init__()\n",
    "\n",
    "        self.fc_1 = nn.Linear(2, 3)                   #    \n",
    "\n",
    "    def forward(self, x):                                           # NOTE: x: input data\n",
    "        mu, log_var = self.encoder(x)\n",
    "        z = self.sampling(mu, log_var)\n",
    "        return self.decoder(z), mu, log_var\n",
    "\n",
    "\n",
    "a(A) \n"
   ]
  },
  {
   "cell_type": "markdown",
   "id": "70c54336",
   "metadata": {},
   "source": [
    "Array Test"
   ]
  },
  {
   "cell_type": "code",
   "execution_count": null,
   "id": "7c300d71",
   "metadata": {},
   "outputs": [
    {
     "ename": "TypeError",
     "evalue": "'Linear' object is not iterable",
     "output_type": "error",
     "traceback": [
      "\u001b[31m---------------------------------------------------------------------------\u001b[39m",
      "\u001b[31mTypeError\u001b[39m                                 Traceback (most recent call last)",
      "\u001b[36mCell\u001b[39m\u001b[36m \u001b[39m\u001b[32mIn[34]\u001b[39m\u001b[32m, line 5\u001b[39m\n\u001b[32m      2\u001b[39m activation = nn.ReLU()\n\u001b[32m      3\u001b[39m input_dim = \u001b[32m2\u001b[39m\n\u001b[32m----> \u001b[39m\u001b[32m5\u001b[39m h.append(\u001b[38;5;28mlist\u001b[39m(\u001b[38;5;28mmap\u001b[39m(\u001b[38;5;28;01mlambda\u001b[39;00m x: h.append(x),\u001b[43m(\u001b[49m\u001b[43mi\u001b[49m\u001b[43m \u001b[49m\u001b[38;5;28;43;01mfor\u001b[39;49;00m\u001b[43m \u001b[49m\u001b[43mi\u001b[49m\u001b[43m \u001b[49m\u001b[38;5;129;43;01min\u001b[39;49;00m\u001b[43m \u001b[49m\u001b[43mnn\u001b[49m\u001b[43m.\u001b[49m\u001b[43mLinear\u001b[49m\u001b[43m(\u001b[49m\u001b[43minput_dim\u001b[49m\u001b[43m,\u001b[49m\u001b[43m \u001b[49m\u001b[32;43m3\u001b[39;49m\u001b[43m,\u001b[49m\u001b[43m \u001b[49m\u001b[43mactivation\u001b[49m\u001b[43m)\u001b[49m\u001b[43m)\u001b[49m)))\n\u001b[32m      7\u001b[39m h\n",
      "\u001b[31mTypeError\u001b[39m: 'Linear' object is not iterable"
     ]
    }
   ],
   "source": [
    "h = []\n",
    "activation = nn.ReLU()\n",
    "input_dim = 2\n",
    "\n",
    "h"
   ]
  }
 ],
 "metadata": {
  "kernelspec": {
   "display_name": "mlenv",
   "language": "python",
   "name": "my_kernel"
  },
  "language_info": {
   "codemirror_mode": {
    "name": "ipython",
    "version": 3
   },
   "file_extension": ".py",
   "mimetype": "text/x-python",
   "name": "python",
   "nbconvert_exporter": "python",
   "pygments_lexer": "ipython3",
   "version": "3.13.2"
  }
 },
 "nbformat": 4,
 "nbformat_minor": 5
}
